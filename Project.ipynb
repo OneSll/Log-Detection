{
  "cells": [
    {
      "cell_type": "markdown",
      "metadata": {
        "id": "view-in-github",
        "colab_type": "text"
      },
      "source": [
        "<a href=\"https://colab.research.google.com/github/OneSll/Log-Detection/blob/main/Project.ipynb\" target=\"_parent\"><img src=\"https://colab.research.google.com/assets/colab-badge.svg\" alt=\"Open In Colab\"/></a>"
      ]
    },
    {
      "cell_type": "code",
      "execution_count": null,
      "metadata": {
        "id": "Gzh2mzVGc8RF"
      },
      "outputs": [],
      "source": [
        "!nvidia-smi"
      ]
    },
    {
      "cell_type": "markdown",
      "source": [
        "Задаем корневую папку"
      ],
      "metadata": {
        "id": "cu8lumjYm4Ax"
      }
    },
    {
      "cell_type": "code",
      "execution_count": null,
      "metadata": {
        "id": "3QjYo2aedGSx"
      },
      "outputs": [],
      "source": [
        "import os\n",
        "HOME = os.getcwd()\n",
        "print(HOME)"
      ]
    },
    {
      "cell_type": "markdown",
      "source": [
        "Загружаем модель YOLOv8"
      ],
      "metadata": {
        "id": "TkuTvuAym7hV"
      }
    },
    {
      "cell_type": "code",
      "execution_count": null,
      "metadata": {
        "id": "TJ7hnCFtdLWw"
      },
      "outputs": [],
      "source": [
        "!pip install ultralytics==8.0.20\n",
        "\n",
        "from IPython import display\n",
        "display.clear_output()\n",
        "\n",
        "import ultralytics\n",
        "ultralytics.checks()"
      ]
    },
    {
      "cell_type": "markdown",
      "source": [
        "Загружаем наш датасет, предварительно загруженный на сайт для работы с датасетами"
      ],
      "metadata": {
        "id": "3_IJ3ChnnHyl"
      }
    },
    {
      "cell_type": "code",
      "execution_count": null,
      "metadata": {
        "id": "v1MQojIAduBV"
      },
      "outputs": [],
      "source": [
        "!pip install roboflow\n",
        "\n",
        "from roboflow import Roboflow\n",
        "rf = Roboflow(api_key=\"PxVCMJisxCzV4I4lZ4j5\")\n",
        "project = rf.workspace(\"ones-nccsf\").project(\"detectimg_logs\")\n",
        "dataset = project.version(4).download(\"yolov8\")"
      ]
    },
    {
      "cell_type": "markdown",
      "source": [
        "Обучаем модель на нашем датасете"
      ],
      "metadata": {
        "id": "2_17gPxhnYSs"
      }
    },
    {
      "cell_type": "code",
      "execution_count": null,
      "metadata": {
        "id": "n6whNbhxd59b"
      },
      "outputs": [],
      "source": [
        "%cd {HOME}\n",
        "\n",
        "!yolo task=detect mode=train model=yolov8s.pt data={dataset.location}/data.yaml epochs=5"
      ]
    },
    {
      "cell_type": "markdown",
      "source": [
        "Детектим бревна на тестовой выборке"
      ],
      "metadata": {
        "id": "zfe1oD9NncQ8"
      }
    },
    {
      "cell_type": "code",
      "source": [
        "!yolo task=detect mode=predict model=/content/drive/MyDrive/runs1/detect/train2/weights/best.pt conf=0.5 hide_labels=True source=/content/drive/MyDrive/Les save=True"
      ],
      "metadata": {
        "id": "K3czRK8Eggw-"
      },
      "execution_count": null,
      "outputs": []
    }
  ],
  "metadata": {
    "accelerator": "GPU",
    "colab": {
      "provenance": [],
      "mount_file_id": "1K2m6NGZzL_O4HGPkX0cwzKhTvMCQ-Tkk",
      "authorship_tag": "ABX9TyP6jd3PV4vDZTs5W+T2ejtC",
      "include_colab_link": true
    },
    "gpuClass": "standard",
    "kernelspec": {
      "display_name": "Python 3",
      "name": "python3"
    },
    "language_info": {
      "name": "python"
    }
  },
  "nbformat": 4,
  "nbformat_minor": 0
}